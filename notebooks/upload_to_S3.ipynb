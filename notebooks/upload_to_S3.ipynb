{
 "cells": [
  {
   "cell_type": "code",
   "execution_count": 7,
   "id": "3947599d-db01-4fe6-8a06-735c7a0a8350",
   "metadata": {},
   "outputs": [],
   "source": [
    "import warnings\n",
    "warnings.filterwarnings(\"ignore\")\n",
    "import boto3\n",
    "from botocore.exceptions import ClientError"
   ]
  },
  {
   "cell_type": "code",
   "execution_count": 8,
   "id": "fc28add9-9206-4e5b-867a-af24b4cc7d13",
   "metadata": {},
   "outputs": [],
   "source": [
    "# function to upload files to S3\n",
    "def uploadFiletoS3(file_name, bucket, object_name):\n",
    "    try:  \n",
    "        # get S3 object\n",
    "        s3 = boto3.client('s3')\n",
    "\n",
    "        # upload file\n",
    "        with open(file_name, \"rb\") as f:\n",
    "             s3.upload_fileobj(f, bucket, object_name)\n",
    "    except ClientError as e:\n",
    "        print(\"Error in S3 Upload\")\n",
    "        print(e)"
   ]
  },
  {
   "cell_type": "code",
   "execution_count": 25,
   "id": "9e346429-2dd0-40d1-813d-16345062a65b",
   "metadata": {},
   "outputs": [],
   "source": [
    "# function to upload csv and log file for web scrapping to S3\n",
    "def upload_file():\n",
    "    # initialize source locations\n",
    "    data_source_1 = \"../data/clean-data/cfa-data-clean.csv\"\n",
    "    data_source_2 = \"../data/clean-data/pdf-data-grobid-clean.csv\"\n",
    "    data_source_3 = \"../data/clean-data/pdf-data-pypdf-clean.csv\"\n",
    "\n",
    "    # S3 bucket name\n",
    "    bucket = \"assignment-3-group2\"\n",
    "    \n",
    "    # initialize destination locations\n",
    "    data_destination_1 = \"csv-files/cfa-data-clean.csv\"\n",
    "    data_destination_2 = \"csv-files/pdf-data-grobid-clean.csv\"\n",
    "    data_destination_3 = \"csv-files/pdf-data-pypdf-clean.csv\"\n",
    "\n",
    "    # upload csv file\n",
    "    uploadFiletoS3(data_source_1, bucket, data_destination_1)\n",
    "    uploadFiletoS3(data_source_2, bucket, data_destination_2)\n",
    "    uploadFiletoS3(data_source_3, bucket, data_destination_3)\n"
   ]
  },
  {
   "cell_type": "code",
   "execution_count": 26,
   "id": "4e011d81-db81-41a7-86d0-73854cec6890",
   "metadata": {},
   "outputs": [],
   "source": [
    "upload_file()"
   ]
  },
  {
   "cell_type": "code",
   "execution_count": null,
   "id": "362cc21a-86a2-4071-8047-7bd464b227cb",
   "metadata": {},
   "outputs": [],
   "source": []
  }
 ],
 "metadata": {
  "kernelspec": {
   "display_name": "Python 3 (ipykernel)",
   "language": "python",
   "name": "python3"
  },
  "language_info": {
   "codemirror_mode": {
    "name": "ipython",
    "version": 3
   },
   "file_extension": ".py",
   "mimetype": "text/x-python",
   "name": "python",
   "nbconvert_exporter": "python",
   "pygments_lexer": "ipython3",
   "version": "3.10.12"
  }
 },
 "nbformat": 4,
 "nbformat_minor": 5
}
